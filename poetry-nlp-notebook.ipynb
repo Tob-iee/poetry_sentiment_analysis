{
 "cells": [
  {
   "cell_type": "markdown",
   "metadata": {},
   "source": [
    "**Poetry Classification Notebook**"
   ]
  },
  {
   "cell_type": "markdown",
   "metadata": {},
   "source": [
    "I've came across this dataset as I was looking for renaissance paintings to use in GAN, and seeing there are no kernels on it, I thought I might just dive in. \n",
    "There are five columns, the poetry itself, the type, author, age of it. First I'll do exploratory data analysis and preprocessing, then I'll classify the author and the age of the poetries using decision trees."
   ]
  },
  {
   "cell_type": "code",
   "execution_count": 1,
   "metadata": {
    "_cell_guid": "79c7e3d0-c299-4dcb-8224-4455121ee9b0",
    "_uuid": "d629ff2d2480ee46fbb7e2d37f6b5fab8052498a"
   },
   "outputs": [],
   "source": [
    "import pandas as pd\n",
    "import numpy as np\n",
    "from sklearn.model_selection import train_test_split\n",
    "from sklearn import preprocessing\n",
    "from sklearn.feature_extraction.text import CountVectorizer, TfidfVectorizer\n",
    "from sklearn.metrics import classification_report, confusion_matrix\n",
    "from sklearn.metrics import accuracy_score\n",
    "from nltk.corpus import stopwords\n",
    "from nltk.corpus import stopwords\n",
    "from wordcloud import WordCloud, STOPWORDS\n",
    "from sklearn.tree import DecisionTreeClassifier\n",
    "import seaborn as sns\n",
    "import gc\n",
    "import re\n",
    "import matplotlib"
   ]
  },
  {
   "cell_type": "code",
   "execution_count": null,
   "metadata": {},
   "outputs": [],
   "source": [
    "import tensorflow as tf\n",
    "from tensorflow.keras.layers import GRU, LSTM, Embedding\n",
    "from tensorflow.keras.callbacks import EarlyStopping\n",
    "from tensorflow.keras import optimizers\n",
    "from tensorflow.keras.layers import Activation, Dense, Bidirectional"
   ]
  },
  {
   "cell_type": "markdown",
   "metadata": {},
   "source": [
    "**Importing the dataset**"
   ]
  },
  {
   "cell_type": "code",
   "execution_count": null,
   "metadata": {},
   "outputs": [],
   "source": [
    "df_poetry=pd.read_csv(\"poem_data.csv\", sep=\",\")\n",
    "df_poetry.head()"
   ]
  },
  {
   "cell_type": "markdown",
   "metadata": {},
   "source": [
    "First I'll do exploratory data analysis, then classify the poetries in age, type and author. Let's see the list of authors, types and ages."
   ]
  },
  {
   "cell_type": "code",
   "execution_count": 2,
   "metadata": {},
   "outputs": [],
   "source": [
    "df_poetry.rename(columns={\"poem name\":\"poem_name\"}, inplace=True)"
   ]
  },
  {
   "cell_type": "code",
   "execution_count": 3,
   "metadata": {},
   "outputs": [],
   "source": [
    "df_poetry.tokenize"
   ]
  },
  {
   "cell_type": "code",
   "execution_count": 5,
   "metadata": {},
   "outputs": [
    {
     "data": {
      "text/plain": [
       "array(['Renaissance', 'Modern'], dtype=object)"
      ]
     },
     "execution_count": 5,
     "metadata": {},
     "output_type": "execute_result"
    }
   ],
   "source": [
    "df_poetry.age.unique()"
   ]
  },
  {
   "cell_type": "markdown",
   "metadata": {},
   "source": [
    "There are three types of poetry."
   ]
  },
  {
   "cell_type": "code",
   "execution_count": 6,
   "metadata": {},
   "outputs": [
    {
     "data": {
      "text/plain": [
       "array(['Mythology & Folklore', 'Nature', 'Love'], dtype=object)"
      ]
     },
     "execution_count": 6,
     "metadata": {},
     "output_type": "execute_result"
    }
   ],
   "source": [
    "df_poetry.type.unique()"
   ]
  },
  {
   "cell_type": "markdown",
   "metadata": {},
   "source": [
    "Let's see the list of authors."
   ]
  },
  {
   "cell_type": "code",
   "execution_count": 7,
   "metadata": {},
   "outputs": [
    {
     "data": {
      "text/plain": [
       "array(['WILLIAM SHAKESPEARE', 'DUCHESS OF NEWCASTLE MARGARET CAVENDISH',\n",
       "       'THOMAS BASTARD', 'EDMUND SPENSER', 'RICHARD BARNFIELD',\n",
       "       'SIR WALTER RALEGH', 'QUEEN ELIZABETH I', 'JOHN DONNE',\n",
       "       'JOHN SKELTON', 'CHRISTOPHER MARLOWE', 'LADY MARY WROTH',\n",
       "       'ROBERT SOUTHWELL, SJ', 'WILLIAM BYRD', 'GEORGE GASCOIGNE',\n",
       "       'HENRY VIII, KING OF ENGLAND', 'SIR THOMAS WYATT', 'EN JONSON',\n",
       "       'ORLANDO GIBBONS', 'THOMAS NASHE', 'SIR PHILIP SIDNEY',\n",
       "       'SECOND BARON VAUX OF HARROWDEN THOMAS, LORD VAUX',\n",
       "       'HENRY HOWARD, EARL OF SURREY', 'GEORGE CHAPMAN', 'THOMAS CAMPION',\n",
       "       'ISABELLA WHITNEY', 'SAMUEL DANIEL', 'THOMAS HEYWOOD',\n",
       "       'GIOVANNI BATTISTA GUARINI', 'SIR EDWARD DYER', 'THOMAS LODGE',\n",
       "       'JOHN FLETCHER', 'EDGAR LEE MASTERS', 'WILLIAM BUTLER YEATS',\n",
       "       'FORD MADOX FORD', 'IVOR GURNEY', 'CARL SANDBURG', 'EZRA POUND',\n",
       "       'ELINOR WYLIE', 'GEORGE SANTAYANA', 'LOUISE BOGAN',\n",
       "       'KENNETH SLESSOR', 'HART CRANE', 'D. H. LAWRENCE',\n",
       "       'HUGH MACDIARMID', 'E. E. CUMMINGS', 'LOUIS UNTERMEYER',\n",
       "       'WALLACE STEVENS', 'MARJORIE PICKTHALL', 'RICHARD ALDINGTON',\n",
       "       'GUILLAUME APOLLINAIRE', 'SAMUEL GREENBERG', 'STEPHEN SPENDER',\n",
       "       'EDITH SITWELL', 'PAUL LAURENCE DUNBAR', 'SARA TEASDALE',\n",
       "       'MINA LOY', 'MARIANNE MOORE', 'ASIL BUNTING', 'MICHAEL ANANIA',\n",
       "       'ARCHIBALD MACLEISH', 'CONRAD AIKEN', 'MALCOLM COWLEY',\n",
       "       'KATHERINE MANSFIELD', 'T. S. ELIOT', 'GERTRUDE STEIN',\n",
       "       'JAMES JOYCE', 'KENNETH FEARING'], dtype=object)"
      ]
     },
     "execution_count": 7,
     "metadata": {},
     "output_type": "execute_result"
    }
   ],
   "source": [
    "df_poetry.author.unique()"
   ]
  },
  {
   "cell_type": "markdown",
   "metadata": {},
   "source": [
    "**Removing special characters from the content column, leaving the spaces for tokenization**"
   ]
  },
  {
   "cell_type": "code",
   "execution_count": 8,
   "metadata": {},
   "outputs": [],
   "source": [
    "def remove_special_chars(text, remove_digits=True):\n",
    "    text=re.sub('[^a-zA-Z.\\d\\s]', '',text)\n",
    "    return text\n",
    "df_poetry.content=df_poetry.content.apply(remove_special_chars)"
   ]
  },
  {
   "cell_type": "markdown",
   "metadata": {},
   "source": [
    "Importing the list of stopwords, I have gathered the below gist def remove_stopwords from another notebook."
   ]
  },
  {
   "cell_type": "code",
   "execution_count": 9,
   "metadata": {},
   "outputs": [
    {
     "data": {
      "text/html": [
       "<div>\n",
       "<style scoped>\n",
       "    .dataframe tbody tr th:only-of-type {\n",
       "        vertical-align: middle;\n",
       "    }\n",
       "\n",
       "    .dataframe tbody tr th {\n",
       "        vertical-align: top;\n",
       "    }\n",
       "\n",
       "    .dataframe thead th {\n",
       "        text-align: right;\n",
       "    }\n",
       "</style>\n",
       "<table border=\"1\" class=\"dataframe\">\n",
       "  <thead>\n",
       "    <tr style=\"text-align: right;\">\n",
       "      <th></th>\n",
       "      <th>author</th>\n",
       "      <th>content</th>\n",
       "      <th>poem_name</th>\n",
       "      <th>age</th>\n",
       "      <th>type</th>\n",
       "    </tr>\n",
       "  </thead>\n",
       "  <tbody>\n",
       "    <tr>\n",
       "      <th>0</th>\n",
       "      <td>WILLIAM SHAKESPEARE</td>\n",
       "      <td>Let the bird of loudest lay\\r\\nOn the sole Ara...</td>\n",
       "      <td>The Phoenix and the Turtle</td>\n",
       "      <td>1</td>\n",
       "      <td>Mythology &amp; Folklore</td>\n",
       "    </tr>\n",
       "    <tr>\n",
       "      <th>1</th>\n",
       "      <td>DUCHESS OF NEWCASTLE MARGARET CAVENDISH</td>\n",
       "      <td>Sir Charles into my chamber coming in\\r\\nWhen ...</td>\n",
       "      <td>An Epilogue to the Above</td>\n",
       "      <td>1</td>\n",
       "      <td>Mythology &amp; Folklore</td>\n",
       "    </tr>\n",
       "    <tr>\n",
       "      <th>2</th>\n",
       "      <td>THOMAS BASTARD</td>\n",
       "      <td>Our vice runs beyond all that old men saw\\r\\nA...</td>\n",
       "      <td>Book 7, Epigram 42</td>\n",
       "      <td>1</td>\n",
       "      <td>Mythology &amp; Folklore</td>\n",
       "    </tr>\n",
       "    <tr>\n",
       "      <th>3</th>\n",
       "      <td>EDMUND SPENSER</td>\n",
       "      <td>Lo I the man whose Muse whilome did maske\\r\\nA...</td>\n",
       "      <td>from The Faerie Queene: Book I, Canto I</td>\n",
       "      <td>1</td>\n",
       "      <td>Mythology &amp; Folklore</td>\n",
       "    </tr>\n",
       "    <tr>\n",
       "      <th>4</th>\n",
       "      <td>RICHARD BARNFIELD</td>\n",
       "      <td>Long have I longd to see my love againe\\r\\nSti...</td>\n",
       "      <td>Sonnet 16</td>\n",
       "      <td>1</td>\n",
       "      <td>Mythology &amp; Folklore</td>\n",
       "    </tr>\n",
       "    <tr>\n",
       "      <th>...</th>\n",
       "      <td>...</td>\n",
       "      <td>...</td>\n",
       "      <td>...</td>\n",
       "      <td>...</td>\n",
       "      <td>...</td>\n",
       "    </tr>\n",
       "    <tr>\n",
       "      <th>568</th>\n",
       "      <td>SARA TEASDALE</td>\n",
       "      <td>With the man I love who loves me not\\r\\nI walk...</td>\n",
       "      <td>Union Square</td>\n",
       "      <td>0</td>\n",
       "      <td>Love</td>\n",
       "    </tr>\n",
       "    <tr>\n",
       "      <th>569</th>\n",
       "      <td>HART CRANE</td>\n",
       "      <td>Hart Crane Voyages I II III IV V VI from The C...</td>\n",
       "      <td>Voyages</td>\n",
       "      <td>0</td>\n",
       "      <td>Love</td>\n",
       "    </tr>\n",
       "    <tr>\n",
       "      <th>570</th>\n",
       "      <td>WILLIAM BUTLER YEATS</td>\n",
       "      <td>When you are old and grey and full of sleep\\r\\...</td>\n",
       "      <td>When You Are Old</td>\n",
       "      <td>0</td>\n",
       "      <td>Love</td>\n",
       "    </tr>\n",
       "    <tr>\n",
       "      <th>571</th>\n",
       "      <td>CARL SANDBURG</td>\n",
       "      <td>Give me hunger\\r\\nO you gods that sit and give...</td>\n",
       "      <td>At a Window</td>\n",
       "      <td>0</td>\n",
       "      <td>Love</td>\n",
       "    </tr>\n",
       "    <tr>\n",
       "      <th>572</th>\n",
       "      <td>RICHARD ALDINGTON</td>\n",
       "      <td>Potuia potuia\\r\\nWhite grave goddess\\r\\nPity m...</td>\n",
       "      <td>To a Greek Marble</td>\n",
       "      <td>0</td>\n",
       "      <td>Love</td>\n",
       "    </tr>\n",
       "  </tbody>\n",
       "</table>\n",
       "<p>573 rows × 5 columns</p>\n",
       "</div>"
      ],
      "text/plain": [
       "                                      author  \\\n",
       "0                        WILLIAM SHAKESPEARE   \n",
       "1    DUCHESS OF NEWCASTLE MARGARET CAVENDISH   \n",
       "2                             THOMAS BASTARD   \n",
       "3                             EDMUND SPENSER   \n",
       "4                          RICHARD BARNFIELD   \n",
       "..                                       ...   \n",
       "568                            SARA TEASDALE   \n",
       "569                               HART CRANE   \n",
       "570                     WILLIAM BUTLER YEATS   \n",
       "571                            CARL SANDBURG   \n",
       "572                        RICHARD ALDINGTON   \n",
       "\n",
       "                                               content  \\\n",
       "0    Let the bird of loudest lay\\r\\nOn the sole Ara...   \n",
       "1    Sir Charles into my chamber coming in\\r\\nWhen ...   \n",
       "2    Our vice runs beyond all that old men saw\\r\\nA...   \n",
       "3    Lo I the man whose Muse whilome did maske\\r\\nA...   \n",
       "4    Long have I longd to see my love againe\\r\\nSti...   \n",
       "..                                                 ...   \n",
       "568  With the man I love who loves me not\\r\\nI walk...   \n",
       "569  Hart Crane Voyages I II III IV V VI from The C...   \n",
       "570  When you are old and grey and full of sleep\\r\\...   \n",
       "571  Give me hunger\\r\\nO you gods that sit and give...   \n",
       "572  Potuia potuia\\r\\nWhite grave goddess\\r\\nPity m...   \n",
       "\n",
       "                                   poem_name  age                  type  \n",
       "0                 The Phoenix and the Turtle    1  Mythology & Folklore  \n",
       "1                   An Epilogue to the Above    1  Mythology & Folklore  \n",
       "2                         Book 7, Epigram 42    1  Mythology & Folklore  \n",
       "3    from The Faerie Queene: Book I, Canto I    1  Mythology & Folklore  \n",
       "4                                  Sonnet 16    1  Mythology & Folklore  \n",
       "..                                       ...  ...                   ...  \n",
       "568                             Union Square    0                  Love  \n",
       "569                                  Voyages    0                  Love  \n",
       "570                         When You Are Old    0                  Love  \n",
       "571                              At a Window    0                  Love  \n",
       "572                        To a Greek Marble    0                  Love  \n",
       "\n",
       "[573 rows x 5 columns]"
      ]
     },
     "execution_count": 9,
     "metadata": {},
     "output_type": "execute_result"
    }
   ],
   "source": [
    "from sklearn.preprocessing import LabelEncoder\n",
    "le=LabelEncoder()\n",
    "df_poetry.age=le.fit_transform(df_poetry.age)\n",
    "df_poetry"
   ]
  },
  {
   "cell_type": "code",
   "execution_count": 10,
   "metadata": {},
   "outputs": [
    {
     "data": {
      "text/html": [
       "<div>\n",
       "<style scoped>\n",
       "    .dataframe tbody tr th:only-of-type {\n",
       "        vertical-align: middle;\n",
       "    }\n",
       "\n",
       "    .dataframe tbody tr th {\n",
       "        vertical-align: top;\n",
       "    }\n",
       "\n",
       "    .dataframe thead th {\n",
       "        text-align: right;\n",
       "    }\n",
       "</style>\n",
       "<table border=\"1\" class=\"dataframe\">\n",
       "  <thead>\n",
       "    <tr style=\"text-align: right;\">\n",
       "      <th></th>\n",
       "      <th>content</th>\n",
       "      <th>age</th>\n",
       "    </tr>\n",
       "  </thead>\n",
       "  <tbody>\n",
       "    <tr>\n",
       "      <th>0</th>\n",
       "      <td>Let the bird of loudest lay\\r\\nOn the sole Ara...</td>\n",
       "      <td>1</td>\n",
       "    </tr>\n",
       "    <tr>\n",
       "      <th>1</th>\n",
       "      <td>Sir Charles into my chamber coming in\\r\\nWhen ...</td>\n",
       "      <td>1</td>\n",
       "    </tr>\n",
       "    <tr>\n",
       "      <th>2</th>\n",
       "      <td>Our vice runs beyond all that old men saw\\r\\nA...</td>\n",
       "      <td>1</td>\n",
       "    </tr>\n",
       "    <tr>\n",
       "      <th>3</th>\n",
       "      <td>Lo I the man whose Muse whilome did maske\\r\\nA...</td>\n",
       "      <td>1</td>\n",
       "    </tr>\n",
       "    <tr>\n",
       "      <th>4</th>\n",
       "      <td>Long have I longd to see my love againe\\r\\nSti...</td>\n",
       "      <td>1</td>\n",
       "    </tr>\n",
       "    <tr>\n",
       "      <th>...</th>\n",
       "      <td>...</td>\n",
       "      <td>...</td>\n",
       "    </tr>\n",
       "    <tr>\n",
       "      <th>568</th>\n",
       "      <td>With the man I love who loves me not\\r\\nI walk...</td>\n",
       "      <td>0</td>\n",
       "    </tr>\n",
       "    <tr>\n",
       "      <th>569</th>\n",
       "      <td>Hart Crane Voyages I II III IV V VI from The C...</td>\n",
       "      <td>0</td>\n",
       "    </tr>\n",
       "    <tr>\n",
       "      <th>570</th>\n",
       "      <td>When you are old and grey and full of sleep\\r\\...</td>\n",
       "      <td>0</td>\n",
       "    </tr>\n",
       "    <tr>\n",
       "      <th>571</th>\n",
       "      <td>Give me hunger\\r\\nO you gods that sit and give...</td>\n",
       "      <td>0</td>\n",
       "    </tr>\n",
       "    <tr>\n",
       "      <th>572</th>\n",
       "      <td>Potuia potuia\\r\\nWhite grave goddess\\r\\nPity m...</td>\n",
       "      <td>0</td>\n",
       "    </tr>\n",
       "  </tbody>\n",
       "</table>\n",
       "<p>573 rows × 2 columns</p>\n",
       "</div>"
      ],
      "text/plain": [
       "                                               content  age\n",
       "0    Let the bird of loudest lay\\r\\nOn the sole Ara...    1\n",
       "1    Sir Charles into my chamber coming in\\r\\nWhen ...    1\n",
       "2    Our vice runs beyond all that old men saw\\r\\nA...    1\n",
       "3    Lo I the man whose Muse whilome did maske\\r\\nA...    1\n",
       "4    Long have I longd to see my love againe\\r\\nSti...    1\n",
       "..                                                 ...  ...\n",
       "568  With the man I love who loves me not\\r\\nI walk...    0\n",
       "569  Hart Crane Voyages I II III IV V VI from The C...    0\n",
       "570  When you are old and grey and full of sleep\\r\\...    0\n",
       "571  Give me hunger\\r\\nO you gods that sit and give...    0\n",
       "572  Potuia potuia\\r\\nWhite grave goddess\\r\\nPity m...    0\n",
       "\n",
       "[573 rows x 2 columns]"
      ]
     },
     "execution_count": 10,
     "metadata": {},
     "output_type": "execute_result"
    }
   ],
   "source": [
    "df_poetry.drop(columns=[\"author\", \"poem_name\",\"type\"])"
   ]
  },
  {
   "cell_type": "code",
   "execution_count": 4,
   "metadata": {},
   "outputs": [],
   "source": [
    "#if only algorithms could understand the nuances of the human emotions and the hearts that shape them"
   ]
  },
  {
   "cell_type": "code",
   "execution_count": 11,
   "metadata": {},
   "outputs": [
    {
     "name": "stderr",
     "output_type": "stream",
     "text": [
      "Using TensorFlow backend.\n"
     ]
    },
    {
     "name": "stdout",
     "output_type": "stream",
     "text": [
      "Found 14170 unique tokens.\n"
     ]
    }
   ],
   "source": [
    "from keras.preprocessing.text import Tokenizer\n",
    "tokenizer=Tokenizer(num_words=1009)\n",
    "tokenizer.fit_on_texts(df_poetry.content)\n",
    "sequences=tokenizer.texts_to_sequences(df_poetry.content)\n",
    "tokenized=tokenizer.texts_to_matrix(df_poetry.content)\n",
    "word_index=tokenizer.word_index\n",
    "print(\"Found %s unique tokens.\"%len(word_index))"
   ]
  },
  {
   "cell_type": "code",
   "execution_count": 4,
   "metadata": {},
   "outputs": [],
   "source": [
    "# Perhaps they can ... If we teach them the language of the heart."
   ]
  },
  {
   "cell_type": "code",
   "execution_count": 5,
   "metadata": {},
   "outputs": [],
   "source": [
    "#The language of the heart...a dataset worth exploring"
   ]
  },
  {
   "cell_type": "code",
   "execution_count": 11,
   "metadata": {},
   "outputs": [],
   "source": [
    "# A dataset full of hidden patterns waiting to be discovered"
   ]
  },
  {
   "cell_type": "code",
   "execution_count": 10,
   "metadata": {},
   "outputs": [],
   "source": [
    "tokenized"
   ]
  },
  {
   "cell_type": "code",
   "execution_count": 13,
   "metadata": {},
   "outputs": [
    {
     "data": {
      "text/plain": [
       "(573, 1009)"
      ]
     },
     "execution_count": 13,
     "metadata": {},
     "output_type": "execute_result"
    }
   ],
   "source": [
    "tokenized.shape"
   ]
  },
  {
   "cell_type": "markdown",
   "metadata": {},
   "source": [
    "from sklearn.feature_extraction.text import TfidfVectorizer\n",
    "vectorizer = TfidfVectorizer()\n",
    "X = vectorizer.fit_transform(df_poetry.content)\n"
   ]
  },
  {
   "cell_type": "code",
   "execution_count": 14,
   "metadata": {},
   "outputs": [],
   "source": [
    "X=tokenized\n",
    "Y=df_poetry.age"
   ]
  },
  {
   "cell_type": "code",
   "execution_count": 15,
   "metadata": {},
   "outputs": [
    {
     "data": {
      "text/plain": [
       "(573, 1009)"
      ]
     },
     "execution_count": 15,
     "metadata": {},
     "output_type": "execute_result"
    }
   ],
   "source": [
    "tokenized.shape"
   ]
  },
  {
   "cell_type": "code",
   "execution_count": 16,
   "metadata": {},
   "outputs": [
    {
     "data": {
      "text/plain": [
       "(573,)"
      ]
     },
     "execution_count": 16,
     "metadata": {},
     "output_type": "execute_result"
    }
   ],
   "source": [
    "df_poetry.age.shape"
   ]
  },
  {
   "cell_type": "code",
   "execution_count": 17,
   "metadata": {},
   "outputs": [],
   "source": [
    "X_train, X_test, y_train, y_test =train_test_split(X,Y,test_size=0.2)"
   ]
  },
  {
   "cell_type": "code",
   "execution_count": 18,
   "metadata": {},
   "outputs": [],
   "source": [
    "X_train=tf.keras.preprocessing.sequence.pad_sequences(X_train, maxlen=300)\n",
    "X_test=tf.keras.preprocessing.sequence.pad_sequences(X_test, maxlen=300)"
   ]
  },
  {
   "cell_type": "code",
   "execution_count": 19,
   "metadata": {},
   "outputs": [],
   "source": [
    "tensorboard = tf.keras.callbacks.TensorBoard(log_dir='my_log_dir')"
   ]
  },
  {
   "cell_type": "code",
   "execution_count": 20,
   "metadata": {},
   "outputs": [],
   "source": [
    "max_features=10\n",
    "callback = tf.keras.callbacks.EarlyStopping(monitor='val_loss', patience=20)\n",
    "model = tf.keras.Sequential([Embedding(input_dim=100, output_dim=128),\n",
    "                            LSTM(128,activation='relu', dropout=0.05, return_sequences=True),\n",
    "                            LSTM(128, activation=\"relu\",dropout=0.05,recurrent_dropout=0.01, return_sequences=True),\n",
    "                            LSTM(64, activation=\"relu\",dropout=0.01,recurrent_dropout=0.01, return_sequences=True),\n",
    "                            LSTM(32, activation=\"relu\",dropout=0.01,recurrent_dropout=0.01),\n",
    "                            Dense(2, activation=\"relu\"),\n",
    "                            Dense(1, activation=\"sigmoid\")])\n",
    "opt=tf.keras.optimizers.RMSprop()\n",
    "model.compile(optimizer=opt, loss=\"binary_crossentropy\", metrics=[\"acc\"])"
   ]
  },
  {
   "cell_type": "code",
   "execution_count": 21,
   "metadata": {},
   "outputs": [
    {
     "name": "stdout",
     "output_type": "stream",
     "text": [
      "Train on 412 samples, validate on 46 samples\n",
      "Epoch 1/100\n",
      "412/412 [==============================] - 29s 71ms/sample - loss: 0.6930 - acc: 0.5218 - val_loss: 0.6924 - val_acc: 0.5870\n",
      "Epoch 2/100\n",
      "412/412 [==============================] - 17s 41ms/sample - loss: 0.6927 - acc: 0.5413 - val_loss: 0.6919 - val_acc: 0.5870\n",
      "Epoch 3/100\n",
      "412/412 [==============================] - 16s 40ms/sample - loss: 0.6925 - acc: 0.5413 - val_loss: 0.6915 - val_acc: 0.5870\n",
      "Epoch 4/100\n",
      "412/412 [==============================] - 16s 40ms/sample - loss: 0.6924 - acc: 0.5413 - val_loss: 0.6913 - val_acc: 0.5870\n",
      "Epoch 5/100\n",
      "412/412 [==============================] - 17s 41ms/sample - loss: 0.6923 - acc: 0.5413 - val_loss: 0.6910 - val_acc: 0.5870\n",
      "Epoch 6/100\n",
      "412/412 [==============================] - 17s 41ms/sample - loss: 0.6921 - acc: 0.5413 - val_loss: 0.6907 - val_acc: 0.5870\n",
      "Epoch 7/100\n",
      "412/412 [==============================] - 16s 39ms/sample - loss: 0.6920 - acc: 0.5413 - val_loss: 0.6903 - val_acc: 0.5870\n",
      "Epoch 8/100\n",
      "412/412 [==============================] - 16s 40ms/sample - loss: 0.6919 - acc: 0.5413 - val_loss: 0.6900 - val_acc: 0.5870\n",
      "Epoch 9/100\n",
      "412/412 [==============================] - 17s 40ms/sample - loss: 0.6917 - acc: 0.5413 - val_loss: 0.6897 - val_acc: 0.5870\n",
      "Epoch 10/100\n",
      "412/412 [==============================] - 16s 40ms/sample - loss: 0.6916 - acc: 0.5413 - val_loss: 0.6894 - val_acc: 0.5870\n",
      "Epoch 11/100\n",
      "412/412 [==============================] - 16s 39ms/sample - loss: 0.6915 - acc: 0.5413 - val_loss: 0.6891 - val_acc: 0.5870\n",
      "Epoch 12/100\n",
      "412/412 [==============================] - 16s 40ms/sample - loss: 0.6915 - acc: 0.5413 - val_loss: 0.6890 - val_acc: 0.5870\n",
      "Epoch 13/100\n",
      "412/412 [==============================] - 17s 41ms/sample - loss: 0.6913 - acc: 0.5413 - val_loss: 0.6887 - val_acc: 0.5870\n",
      "Epoch 14/100\n",
      "412/412 [==============================] - 16s 40ms/sample - loss: 0.6913 - acc: 0.5413 - val_loss: 0.6885 - val_acc: 0.5870\n",
      "Epoch 15/100\n",
      "412/412 [==============================] - 16s 39ms/sample - loss: 0.6912 - acc: 0.5413 - val_loss: 0.6883 - val_acc: 0.5870\n",
      "Epoch 16/100\n",
      "412/412 [==============================] - 17s 41ms/sample - loss: 0.6911 - acc: 0.5413 - val_loss: 0.6880 - val_acc: 0.5870\n",
      "Epoch 17/100\n",
      "412/412 [==============================] - 17s 42ms/sample - loss: 0.6910 - acc: 0.5413 - val_loss: 0.6879 - val_acc: 0.5870\n",
      "Epoch 18/100\n",
      "412/412 [==============================] - 16s 40ms/sample - loss: 0.6910 - acc: 0.5413 - val_loss: 0.6877 - val_acc: 0.5870\n",
      "Epoch 19/100\n",
      "412/412 [==============================] - 16s 40ms/sample - loss: 0.6909 - acc: 0.5413 - val_loss: 0.6874 - val_acc: 0.5870\n",
      "Epoch 20/100\n",
      "412/412 [==============================] - 17s 41ms/sample - loss: 0.6908 - acc: 0.5413 - val_loss: 0.6872 - val_acc: 0.5870\n",
      "Epoch 21/100\n",
      "412/412 [==============================] - 16s 40ms/sample - loss: 0.6907 - acc: 0.5413 - val_loss: 0.6870 - val_acc: 0.5870\n",
      "Epoch 22/100\n",
      "412/412 [==============================] - 16s 40ms/sample - loss: 0.6906 - acc: 0.5413 - val_loss: 0.6868 - val_acc: 0.5870\n",
      "Epoch 23/100\n",
      "412/412 [==============================] - 16s 39ms/sample - loss: 0.6906 - acc: 0.5413 - val_loss: 0.6865 - val_acc: 0.5870\n",
      "Epoch 24/100\n",
      "412/412 [==============================] - 17s 42ms/sample - loss: 0.6905 - acc: 0.5413 - val_loss: 0.6864 - val_acc: 0.5870\n",
      "Epoch 25/100\n",
      "412/412 [==============================] - 16s 40ms/sample - loss: 0.6905 - acc: 0.5413 - val_loss: 0.6862 - val_acc: 0.5870\n",
      "Epoch 26/100\n",
      "412/412 [==============================] - 17s 40ms/sample - loss: 0.6904 - acc: 0.5413 - val_loss: 0.6860 - val_acc: 0.5870\n",
      "Epoch 27/100\n",
      "412/412 [==============================] - 17s 41ms/sample - loss: 0.6904 - acc: 0.5413 - val_loss: 0.6859 - val_acc: 0.5870\n",
      "Epoch 28/100\n",
      "412/412 [==============================] - 17s 41ms/sample - loss: 0.6903 - acc: 0.5413 - val_loss: 0.6857 - val_acc: 0.5870\n",
      "Epoch 29/100\n",
      "412/412 [==============================] - 16s 40ms/sample - loss: 0.6903 - acc: 0.5413 - val_loss: 0.6856 - val_acc: 0.5870\n",
      "Epoch 30/100\n",
      "412/412 [==============================] - 16s 40ms/sample - loss: 0.6903 - acc: 0.5413 - val_loss: 0.6854 - val_acc: 0.5870\n",
      "Epoch 31/100\n",
      "412/412 [==============================] - 19s 45ms/sample - loss: 0.6902 - acc: 0.5413 - val_loss: 0.6854 - val_acc: 0.5870\n",
      "Epoch 32/100\n",
      "412/412 [==============================] - 17s 40ms/sample - loss: 0.6902 - acc: 0.5413 - val_loss: 0.6853 - val_acc: 0.5870\n",
      "Epoch 33/100\n",
      "412/412 [==============================] - 17s 40ms/sample - loss: 0.6902 - acc: 0.5413 - val_loss: 0.6853 - val_acc: 0.5870\n",
      "Epoch 34/100\n",
      "412/412 [==============================] - 17s 41ms/sample - loss: 0.6902 - acc: 0.5413 - val_loss: 0.6852 - val_acc: 0.5870\n",
      "Epoch 35/100\n",
      "412/412 [==============================] - 17s 41ms/sample - loss: 0.6902 - acc: 0.5413 - val_loss: 0.6850 - val_acc: 0.5870\n",
      "Epoch 36/100\n",
      "412/412 [==============================] - 17s 40ms/sample - loss: 0.6901 - acc: 0.5413 - val_loss: 0.6849 - val_acc: 0.5870\n",
      "Epoch 37/100\n",
      "412/412 [==============================] - 16s 40ms/sample - loss: 0.6901 - acc: 0.5413 - val_loss: 0.6848 - val_acc: 0.5870\n",
      "Epoch 38/100\n",
      "412/412 [==============================] - 17s 42ms/sample - loss: 0.6901 - acc: 0.5413 - val_loss: 0.6847 - val_acc: 0.5870\n",
      "Epoch 39/100\n",
      "412/412 [==============================] - 16s 40ms/sample - loss: 0.6900 - acc: 0.5413 - val_loss: 0.6846 - val_acc: 0.5870\n",
      "Epoch 40/100\n",
      "412/412 [==============================] - 16s 40ms/sample - loss: 0.6900 - acc: 0.5413 - val_loss: 0.6844 - val_acc: 0.5870\n",
      "Epoch 41/100\n",
      "412/412 [==============================] - 16s 40ms/sample - loss: 0.6900 - acc: 0.5413 - val_loss: 0.6844 - val_acc: 0.5870\n",
      "Epoch 42/100\n",
      "412/412 [==============================] - 17s 42ms/sample - loss: 0.6900 - acc: 0.5413 - val_loss: 0.6843 - val_acc: 0.5870\n",
      "Epoch 43/100\n",
      "412/412 [==============================] - 16s 40ms/sample - loss: 0.6900 - acc: 0.5413 - val_loss: 0.6842 - val_acc: 0.5870\n",
      "Epoch 44/100\n",
      "412/412 [==============================] - 16s 40ms/sample - loss: 0.6899 - acc: 0.5413 - val_loss: 0.6841 - val_acc: 0.5870\n",
      "Epoch 45/100\n",
      "412/412 [==============================] - 17s 41ms/sample - loss: 0.6900 - acc: 0.5413 - val_loss: 0.6839 - val_acc: 0.5870\n",
      "Epoch 46/100\n",
      "412/412 [==============================] - 17s 41ms/sample - loss: 0.6899 - acc: 0.5413 - val_loss: 0.6839 - val_acc: 0.5870\n",
      "Epoch 47/100\n",
      "412/412 [==============================] - 16s 40ms/sample - loss: 0.6899 - acc: 0.5413 - val_loss: 0.6838 - val_acc: 0.5870\n",
      "Epoch 48/100\n",
      "412/412 [==============================] - 16s 39ms/sample - loss: 0.6899 - acc: 0.5413 - val_loss: 0.6838 - val_acc: 0.5870\n",
      "Epoch 49/100\n",
      "412/412 [==============================] - 17s 41ms/sample - loss: 0.6899 - acc: 0.5413 - val_loss: 0.6838 - val_acc: 0.5870\n",
      "Epoch 50/100\n",
      "412/412 [==============================] - 16s 40ms/sample - loss: 0.6899 - acc: 0.5413 - val_loss: 0.6837 - val_acc: 0.5870\n",
      "Epoch 51/100\n",
      "412/412 [==============================] - 16s 39ms/sample - loss: 0.6899 - acc: 0.5413 - val_loss: 0.6836 - val_acc: 0.5870\n",
      "Epoch 52/100\n",
      "412/412 [==============================] - 17s 41ms/sample - loss: 0.6899 - acc: 0.5413 - val_loss: 0.6835 - val_acc: 0.5870\n",
      "Epoch 53/100\n",
      "412/412 [==============================] - 17s 40ms/sample - loss: 0.6899 - acc: 0.5413 - val_loss: 0.6834 - val_acc: 0.5870\n",
      "Epoch 54/100\n",
      "412/412 [==============================] - 17s 41ms/sample - loss: 0.6898 - acc: 0.5413 - val_loss: 0.6834 - val_acc: 0.5870\n",
      "Epoch 55/100\n",
      "412/412 [==============================] - 17s 40ms/sample - loss: 0.6899 - acc: 0.5413 - val_loss: 0.6833 - val_acc: 0.5870\n",
      "Epoch 56/100\n",
      "412/412 [==============================] - 17s 41ms/sample - loss: 0.6898 - acc: 0.5413 - val_loss: 0.6833 - val_acc: 0.5870\n",
      "Epoch 57/100\n",
      "412/412 [==============================] - 16s 40ms/sample - loss: 0.6899 - acc: 0.5413 - val_loss: 0.6833 - val_acc: 0.5870\n",
      "Epoch 58/100\n",
      "412/412 [==============================] - 17s 40ms/sample - loss: 0.6899 - acc: 0.5413 - val_loss: 0.6832 - val_acc: 0.5870\n",
      "Epoch 59/100\n",
      "412/412 [==============================] - 16s 40ms/sample - loss: 0.6898 - acc: 0.5413 - val_loss: 0.6831 - val_acc: 0.5870\n",
      "Epoch 60/100\n",
      "412/412 [==============================] - 17s 42ms/sample - loss: 0.6898 - acc: 0.5413 - val_loss: 0.6831 - val_acc: 0.5870\n",
      "Epoch 61/100\n",
      "412/412 [==============================] - 17s 41ms/sample - loss: 0.6898 - acc: 0.5413 - val_loss: 0.6832 - val_acc: 0.5870\n",
      "Epoch 62/100\n",
      "412/412 [==============================] - 16s 40ms/sample - loss: 0.6898 - acc: 0.5413 - val_loss: 0.6831 - val_acc: 0.5870\n",
      "Epoch 63/100\n",
      "412/412 [==============================] - 17s 41ms/sample - loss: 0.6898 - acc: 0.5413 - val_loss: 0.6831 - val_acc: 0.5870\n",
      "Epoch 64/100\n",
      "412/412 [==============================] - 17s 41ms/sample - loss: 0.6898 - acc: 0.5413 - val_loss: 0.6830 - val_acc: 0.5870\n",
      "Epoch 65/100\n",
      "412/412 [==============================] - 17s 40ms/sample - loss: 0.6898 - acc: 0.5413 - val_loss: 0.6829 - val_acc: 0.5870\n",
      "Epoch 66/100\n",
      "412/412 [==============================] - 17s 40ms/sample - loss: 0.6898 - acc: 0.5413 - val_loss: 0.6829 - val_acc: 0.5870\n",
      "Epoch 67/100\n",
      "412/412 [==============================] - 17s 41ms/sample - loss: 0.6898 - acc: 0.5413 - val_loss: 0.6828 - val_acc: 0.5870\n",
      "Epoch 68/100\n",
      "412/412 [==============================] - 17s 40ms/sample - loss: 0.6898 - acc: 0.5413 - val_loss: 0.6827 - val_acc: 0.5870\n",
      "Epoch 69/100\n",
      "412/412 [==============================] - 16s 39ms/sample - loss: 0.6898 - acc: 0.5413 - val_loss: 0.6827 - val_acc: 0.5870\n",
      "Epoch 70/100\n",
      "412/412 [==============================] - 17s 41ms/sample - loss: 0.6898 - acc: 0.5413 - val_loss: 0.6827 - val_acc: 0.5870\n",
      "Epoch 71/100\n",
      "412/412 [==============================] - 21s 52ms/sample - loss: 0.6898 - acc: 0.5413 - val_loss: 0.6827 - val_acc: 0.5870\n",
      "Epoch 72/100\n",
      "412/412 [==============================] - 17s 40ms/sample - loss: 0.6898 - acc: 0.5413 - val_loss: 0.6826 - val_acc: 0.5870\n",
      "Epoch 73/100\n",
      "412/412 [==============================] - 17s 42ms/sample - loss: 0.6898 - acc: 0.5413 - val_loss: 0.6827 - val_acc: 0.5870\n",
      "Epoch 74/100\n",
      "412/412 [==============================] - 17s 41ms/sample - loss: 0.6898 - acc: 0.5413 - val_loss: 0.6827 - val_acc: 0.5870\n",
      "Epoch 75/100\n",
      "412/412 [==============================] - 17s 40ms/sample - loss: 0.6898 - acc: 0.5413 - val_loss: 0.6827 - val_acc: 0.5870\n",
      "Epoch 76/100\n",
      "412/412 [==============================] - 16s 39ms/sample - loss: 0.6898 - acc: 0.5413 - val_loss: 0.6827 - val_acc: 0.5870\n",
      "Epoch 77/100\n",
      "412/412 [==============================] - 17s 41ms/sample - loss: 0.6898 - acc: 0.5413 - val_loss: 0.6827 - val_acc: 0.5870\n",
      "Epoch 78/100\n",
      "412/412 [==============================] - 17s 41ms/sample - loss: 0.6898 - acc: 0.5413 - val_loss: 0.6827 - val_acc: 0.5870\n",
      "Epoch 79/100\n",
      "412/412 [==============================] - 17s 41ms/sample - loss: 0.6898 - acc: 0.5413 - val_loss: 0.6827 - val_acc: 0.5870\n",
      "Epoch 80/100\n",
      "412/412 [==============================] - 16s 40ms/sample - loss: 0.6898 - acc: 0.5413 - val_loss: 0.6826 - val_acc: 0.5870\n",
      "Epoch 81/100\n",
      "412/412 [==============================] - 17s 42ms/sample - loss: 0.6898 - acc: 0.5413 - val_loss: 0.6827 - val_acc: 0.5870\n",
      "Epoch 82/100\n",
      "412/412 [==============================] - 17s 40ms/sample - loss: 0.6898 - acc: 0.5413 - val_loss: 0.6826 - val_acc: 0.5870\n",
      "Epoch 83/100\n",
      "412/412 [==============================] - 16s 40ms/sample - loss: 0.6898 - acc: 0.5413 - val_loss: 0.6827 - val_acc: 0.5870\n",
      "Epoch 84/100\n",
      "412/412 [==============================] - 16s 40ms/sample - loss: 0.6898 - acc: 0.5413 - val_loss: 0.6827 - val_acc: 0.5870\n",
      "Epoch 85/100\n",
      "412/412 [==============================] - 17s 41ms/sample - loss: 0.6898 - acc: 0.5413 - val_loss: 0.6827 - val_acc: 0.5870\n",
      "Epoch 86/100\n",
      "412/412 [==============================] - 16s 40ms/sample - loss: 0.6898 - acc: 0.5413 - val_loss: 0.6827 - val_acc: 0.5870\n",
      "Epoch 87/100\n",
      "412/412 [==============================] - 17s 40ms/sample - loss: 0.6898 - acc: 0.5413 - val_loss: 0.6827 - val_acc: 0.5870\n",
      "Epoch 88/100\n",
      "412/412 [==============================] - 17s 41ms/sample - loss: 0.6898 - acc: 0.5413 - val_loss: 0.6826 - val_acc: 0.5870\n",
      "Epoch 89/100\n",
      "412/412 [==============================] - 17s 41ms/sample - loss: 0.6898 - acc: 0.5413 - val_loss: 0.6827 - val_acc: 0.5870\n",
      "Epoch 90/100\n",
      "412/412 [==============================] - 16s 39ms/sample - loss: 0.6898 - acc: 0.5413 - val_loss: 0.6827 - val_acc: 0.5870\n",
      "Epoch 91/100\n",
      "412/412 [==============================] - 17s 41ms/sample - loss: 0.6898 - acc: 0.5413 - val_loss: 0.6827 - val_acc: 0.5870\n",
      "Epoch 92/100\n",
      "412/412 [==============================] - 17s 41ms/sample - loss: 0.6898 - acc: 0.5413 - val_loss: 0.6827 - val_acc: 0.5870\n"
     ]
    },
    {
     "data": {
      "text/plain": [
       "<tensorflow.python.keras.callbacks.History at 0x7f53446ff0b8>"
      ]
     },
     "execution_count": 21,
     "metadata": {},
     "output_type": "execute_result"
    }
   ],
   "source": [
    "model.fit(X_train, y_train.values, epochs=100, batch_size=40, validation_split=0.1, callbacks=[callback, tensorboard])"
   ]
  },
  {
   "cell_type": "code",
   "execution_count": 22,
   "metadata": {},
   "outputs": [
    {
     "name": "stdout",
     "output_type": "stream",
     "text": [
      "115/115 [==============================] - 1s 8ms/sample - loss: 0.6860 - acc: 0.5652\n"
     ]
    },
    {
     "data": {
      "text/plain": [
       "[0.6860418407813362, 0.5652174]"
      ]
     },
     "execution_count": 22,
     "metadata": {},
     "output_type": "execute_result"
    }
   ],
   "source": [
    "model.evaluate(X_test, y_test)"
   ]
  },
  {
   "cell_type": "code",
   "execution_count": 23,
   "metadata": {},
   "outputs": [
    {
     "data": {
      "text/html": [
       "<div>\n",
       "<style scoped>\n",
       "    .dataframe tbody tr th:only-of-type {\n",
       "        vertical-align: middle;\n",
       "    }\n",
       "\n",
       "    .dataframe tbody tr th {\n",
       "        vertical-align: top;\n",
       "    }\n",
       "\n",
       "    .dataframe thead th {\n",
       "        text-align: right;\n",
       "    }\n",
       "</style>\n",
       "<table border=\"1\" class=\"dataframe\">\n",
       "  <thead>\n",
       "    <tr style=\"text-align: right;\">\n",
       "      <th></th>\n",
       "      <th>author</th>\n",
       "      <th>content</th>\n",
       "      <th>poem name</th>\n",
       "      <th>age</th>\n",
       "      <th>type</th>\n",
       "    </tr>\n",
       "  </thead>\n",
       "  <tbody>\n",
       "    <tr>\n",
       "      <th>0</th>\n",
       "      <td>WILLIAM SHAKESPEARE</td>\n",
       "      <td>Let the bird of loudest lay\\r\\nOn the sole Ara...</td>\n",
       "      <td>The Phoenix and the Turtle</td>\n",
       "      <td>Renaissance</td>\n",
       "      <td>Mythology &amp; Folklore</td>\n",
       "    </tr>\n",
       "    <tr>\n",
       "      <th>1</th>\n",
       "      <td>DUCHESS OF NEWCASTLE MARGARET CAVENDISH</td>\n",
       "      <td>Sir Charles into my chamber coming in,\\r\\nWhen...</td>\n",
       "      <td>An Epilogue to the Above</td>\n",
       "      <td>Renaissance</td>\n",
       "      <td>Mythology &amp; Folklore</td>\n",
       "    </tr>\n",
       "    <tr>\n",
       "      <th>2</th>\n",
       "      <td>THOMAS BASTARD</td>\n",
       "      <td>Our vice runs beyond all that old men saw,\\r\\n...</td>\n",
       "      <td>Book 7, Epigram 42</td>\n",
       "      <td>Renaissance</td>\n",
       "      <td>Mythology &amp; Folklore</td>\n",
       "    </tr>\n",
       "    <tr>\n",
       "      <th>3</th>\n",
       "      <td>EDMUND SPENSER</td>\n",
       "      <td>Lo I the man, whose Muse whilome did maske,\\r\\...</td>\n",
       "      <td>from The Faerie Queene: Book I, Canto I</td>\n",
       "      <td>Renaissance</td>\n",
       "      <td>Mythology &amp; Folklore</td>\n",
       "    </tr>\n",
       "    <tr>\n",
       "      <th>4</th>\n",
       "      <td>RICHARD BARNFIELD</td>\n",
       "      <td>Long have I longd to see my love againe,\\r\\nSt...</td>\n",
       "      <td>Sonnet 16</td>\n",
       "      <td>Renaissance</td>\n",
       "      <td>Mythology &amp; Folklore</td>\n",
       "    </tr>\n",
       "  </tbody>\n",
       "</table>\n",
       "</div>"
      ],
      "text/plain": [
       "                                    author  \\\n",
       "0                      WILLIAM SHAKESPEARE   \n",
       "1  DUCHESS OF NEWCASTLE MARGARET CAVENDISH   \n",
       "2                           THOMAS BASTARD   \n",
       "3                           EDMUND SPENSER   \n",
       "4                        RICHARD BARNFIELD   \n",
       "\n",
       "                                             content  \\\n",
       "0  Let the bird of loudest lay\\r\\nOn the sole Ara...   \n",
       "1  Sir Charles into my chamber coming in,\\r\\nWhen...   \n",
       "2  Our vice runs beyond all that old men saw,\\r\\n...   \n",
       "3  Lo I the man, whose Muse whilome did maske,\\r\\...   \n",
       "4  Long have I longd to see my love againe,\\r\\nSt...   \n",
       "\n",
       "                                 poem name          age                  type  \n",
       "0               The Phoenix and the Turtle  Renaissance  Mythology & Folklore  \n",
       "1                 An Epilogue to the Above  Renaissance  Mythology & Folklore  \n",
       "2                       Book 7, Epigram 42  Renaissance  Mythology & Folklore  \n",
       "3  from The Faerie Queene: Book I, Canto I  Renaissance  Mythology & Folklore  \n",
       "4                                Sonnet 16  Renaissance  Mythology & Folklore  "
      ]
     },
     "execution_count": 23,
     "metadata": {},
     "output_type": "execute_result"
    }
   ],
   "source": [
    "df_poetry=pd.read_csv(\"../input/poetry-analysis-with-machine-learning/all.csv\", sep=\",\")\n",
    "df_poetry.head()"
   ]
  },
  {
   "cell_type": "markdown",
   "metadata": {},
   "source": [
    "**Most used 20 words**"
   ]
  },
  {
   "cell_type": "code",
   "execution_count": 24,
   "metadata": {},
   "outputs": [
    {
     "data": {
      "text/html": [
       "        <script type=\"text/javascript\">\n",
       "        window.PlotlyConfig = {MathJaxConfig: 'local'};\n",
       "        if (window.MathJax) {MathJax.Hub.Config({SVG: {font: \"STIX-Web\"}});}\n",
       "        if (typeof require !== 'undefined') {\n",
       "        require.undef(\"plotly\");\n",
       "        requirejs.config({\n",
       "            paths: {\n",
       "                'plotly': ['https://cdn.plot.ly/plotly-latest.min']\n",
       "            }\n",
       "        });\n",
       "        require(['plotly'], function(Plotly) {\n",
       "            window._Plotly = Plotly;\n",
       "        });\n",
       "        }\n",
       "        </script>\n",
       "        "
      ]
     },
     "metadata": {},
     "output_type": "display_data"
    },
    {
     "data": {
      "text/html": [
       "<div>\n",
       "        \n",
       "        \n",
       "            <div id=\"c4eedcc2-1e51-49bf-95b3-e71a48e7ac88\" class=\"plotly-graph-div\" style=\"height:525px; width:100%;\"></div>\n",
       "            <script type=\"text/javascript\">\n",
       "                require([\"plotly\"], function(Plotly) {\n",
       "                    window.PLOTLYENV=window.PLOTLYENV || {};\n",
       "                    \n",
       "                if (document.getElementById(\"c4eedcc2-1e51-49bf-95b3-e71a48e7ac88\")) {\n",
       "                    Plotly.newPlot(\n",
       "                        'c4eedcc2-1e51-49bf-95b3-e71a48e7ac88',\n",
       "                        [{\"marker\": {\"color\": [1957, 1641, 1477, 1360, 1326, 1198, 983, 957, 800, 731, 714, 710, 569, 540, 536, 494, 481, 461, 441, 436, 435, 433, 430, 427, 406, 386, 381, 377, 364, 349, 346, 335, 333, 331, 320, 317, 314, 305], \"colorscale\": [[0.0, \"rgb(103,0,31)\"], [0.1, \"rgb(178,24,43)\"], [0.2, \"rgb(214,96,77)\"], [0.3, \"rgb(244,165,130)\"], [0.4, \"rgb(253,219,199)\"], [0.5, \"rgb(247,247,247)\"], [0.6, \"rgb(209,229,240)\"], [0.7, \"rgb(146,197,222)\"], [0.8, \"rgb(67,147,195)\"], [0.9, \"rgb(33,102,172)\"], [1.0, \"rgb(5,48,97)\"]]}, \"text\": \"Word counts\", \"type\": \"bar\", \"x\": [\"of\", \"to\", \"And\", \"I\", \"in\", \"a\", \"that\", \"my\", \"with\", \"her\", \"is\", \"The\", \"his\", \"all\", \"not\", \"by\", \"as\", \"for\"], \"y\": [1957, 1641, 1477, 1360, 1326, 1198, 983, 957, 800, 731, 714, 710, 569, 540, 536, 494, 481, 461]}],\n",
       "                        {\"template\": {\"data\": {\"bar\": [{\"error_x\": {\"color\": \"#2a3f5f\"}, \"error_y\": {\"color\": \"#2a3f5f\"}, \"marker\": {\"line\": {\"color\": \"#E5ECF6\", \"width\": 0.5}}, \"type\": \"bar\"}], \"barpolar\": [{\"marker\": {\"line\": {\"color\": \"#E5ECF6\", \"width\": 0.5}}, \"type\": \"barpolar\"}], \"carpet\": [{\"aaxis\": {\"endlinecolor\": \"#2a3f5f\", \"gridcolor\": \"white\", \"linecolor\": \"white\", \"minorgridcolor\": \"white\", \"startlinecolor\": \"#2a3f5f\"}, \"baxis\": {\"endlinecolor\": \"#2a3f5f\", \"gridcolor\": \"white\", \"linecolor\": \"white\", \"minorgridcolor\": \"white\", \"startlinecolor\": \"#2a3f5f\"}, \"type\": \"carpet\"}], \"choropleth\": [{\"colorbar\": {\"outlinewidth\": 0, \"ticks\": \"\"}, \"type\": \"choropleth\"}], \"contour\": [{\"colorbar\": {\"outlinewidth\": 0, \"ticks\": \"\"}, \"colorscale\": [[0.0, \"#0d0887\"], [0.1111111111111111, \"#46039f\"], [0.2222222222222222, \"#7201a8\"], [0.3333333333333333, \"#9c179e\"], [0.4444444444444444, \"#bd3786\"], [0.5555555555555556, \"#d8576b\"], [0.6666666666666666, \"#ed7953\"], [0.7777777777777778, \"#fb9f3a\"], [0.8888888888888888, \"#fdca26\"], [1.0, \"#f0f921\"]], \"type\": \"contour\"}], \"contourcarpet\": [{\"colorbar\": {\"outlinewidth\": 0, \"ticks\": \"\"}, \"type\": \"contourcarpet\"}], \"heatmap\": [{\"colorbar\": {\"outlinewidth\": 0, \"ticks\": \"\"}, \"colorscale\": [[0.0, \"#0d0887\"], [0.1111111111111111, \"#46039f\"], [0.2222222222222222, \"#7201a8\"], [0.3333333333333333, \"#9c179e\"], [0.4444444444444444, \"#bd3786\"], [0.5555555555555556, \"#d8576b\"], [0.6666666666666666, \"#ed7953\"], [0.7777777777777778, \"#fb9f3a\"], [0.8888888888888888, \"#fdca26\"], [1.0, \"#f0f921\"]], \"type\": \"heatmap\"}], \"heatmapgl\": [{\"colorbar\": {\"outlinewidth\": 0, \"ticks\": \"\"}, \"colorscale\": [[0.0, \"#0d0887\"], [0.1111111111111111, \"#46039f\"], [0.2222222222222222, \"#7201a8\"], [0.3333333333333333, \"#9c179e\"], [0.4444444444444444, \"#bd3786\"], [0.5555555555555556, \"#d8576b\"], [0.6666666666666666, \"#ed7953\"], [0.7777777777777778, \"#fb9f3a\"], [0.8888888888888888, \"#fdca26\"], [1.0, \"#f0f921\"]], \"type\": \"heatmapgl\"}], \"histogram\": [{\"marker\": {\"colorbar\": {\"outlinewidth\": 0, \"ticks\": \"\"}}, \"type\": \"histogram\"}], \"histogram2d\": [{\"colorbar\": {\"outlinewidth\": 0, \"ticks\": \"\"}, \"colorscale\": [[0.0, \"#0d0887\"], [0.1111111111111111, \"#46039f\"], [0.2222222222222222, \"#7201a8\"], [0.3333333333333333, \"#9c179e\"], [0.4444444444444444, \"#bd3786\"], [0.5555555555555556, \"#d8576b\"], [0.6666666666666666, \"#ed7953\"], [0.7777777777777778, \"#fb9f3a\"], [0.8888888888888888, \"#fdca26\"], [1.0, \"#f0f921\"]], \"type\": \"histogram2d\"}], \"histogram2dcontour\": [{\"colorbar\": {\"outlinewidth\": 0, \"ticks\": \"\"}, \"colorscale\": [[0.0, \"#0d0887\"], [0.1111111111111111, \"#46039f\"], [0.2222222222222222, \"#7201a8\"], [0.3333333333333333, \"#9c179e\"], [0.4444444444444444, \"#bd3786\"], [0.5555555555555556, \"#d8576b\"], [0.6666666666666666, \"#ed7953\"], [0.7777777777777778, \"#fb9f3a\"], [0.8888888888888888, \"#fdca26\"], [1.0, \"#f0f921\"]], \"type\": \"histogram2dcontour\"}], \"mesh3d\": [{\"colorbar\": {\"outlinewidth\": 0, \"ticks\": \"\"}, \"type\": \"mesh3d\"}], \"parcoords\": [{\"line\": {\"colorbar\": {\"outlinewidth\": 0, \"ticks\": \"\"}}, \"type\": \"parcoords\"}], \"pie\": [{\"automargin\": true, \"type\": \"pie\"}], \"scatter\": [{\"marker\": {\"colorbar\": {\"outlinewidth\": 0, \"ticks\": \"\"}}, \"type\": \"scatter\"}], \"scatter3d\": [{\"line\": {\"colorbar\": {\"outlinewidth\": 0, \"ticks\": \"\"}}, \"marker\": {\"colorbar\": {\"outlinewidth\": 0, \"ticks\": \"\"}}, \"type\": \"scatter3d\"}], \"scattercarpet\": [{\"marker\": {\"colorbar\": {\"outlinewidth\": 0, \"ticks\": \"\"}}, \"type\": \"scattercarpet\"}], \"scattergeo\": [{\"marker\": {\"colorbar\": {\"outlinewidth\": 0, \"ticks\": \"\"}}, \"type\": \"scattergeo\"}], \"scattergl\": [{\"marker\": {\"colorbar\": {\"outlinewidth\": 0, \"ticks\": \"\"}}, \"type\": \"scattergl\"}], \"scattermapbox\": [{\"marker\": {\"colorbar\": {\"outlinewidth\": 0, \"ticks\": \"\"}}, \"type\": \"scattermapbox\"}], \"scatterpolar\": [{\"marker\": {\"colorbar\": {\"outlinewidth\": 0, \"ticks\": \"\"}}, \"type\": \"scatterpolar\"}], \"scatterpolargl\": [{\"marker\": {\"colorbar\": {\"outlinewidth\": 0, \"ticks\": \"\"}}, \"type\": \"scatterpolargl\"}], \"scatterternary\": [{\"marker\": {\"colorbar\": {\"outlinewidth\": 0, \"ticks\": \"\"}}, \"type\": \"scatterternary\"}], \"surface\": [{\"colorbar\": {\"outlinewidth\": 0, \"ticks\": \"\"}, \"colorscale\": [[0.0, \"#0d0887\"], [0.1111111111111111, \"#46039f\"], [0.2222222222222222, \"#7201a8\"], [0.3333333333333333, \"#9c179e\"], [0.4444444444444444, \"#bd3786\"], [0.5555555555555556, \"#d8576b\"], [0.6666666666666666, \"#ed7953\"], [0.7777777777777778, \"#fb9f3a\"], [0.8888888888888888, \"#fdca26\"], [1.0, \"#f0f921\"]], \"type\": \"surface\"}], \"table\": [{\"cells\": {\"fill\": {\"color\": \"#EBF0F8\"}, \"line\": {\"color\": \"white\"}}, \"header\": {\"fill\": {\"color\": \"#C8D4E3\"}, \"line\": {\"color\": \"white\"}}, \"type\": \"table\"}]}, \"layout\": {\"annotationdefaults\": {\"arrowcolor\": \"#2a3f5f\", \"arrowhead\": 0, \"arrowwidth\": 1}, \"coloraxis\": {\"colorbar\": {\"outlinewidth\": 0, \"ticks\": \"\"}}, \"colorscale\": {\"diverging\": [[0, \"#8e0152\"], [0.1, \"#c51b7d\"], [0.2, \"#de77ae\"], [0.3, \"#f1b6da\"], [0.4, \"#fde0ef\"], [0.5, \"#f7f7f7\"], [0.6, \"#e6f5d0\"], [0.7, \"#b8e186\"], [0.8, \"#7fbc41\"], [0.9, \"#4d9221\"], [1, \"#276419\"]], \"sequential\": [[0.0, \"#0d0887\"], [0.1111111111111111, \"#46039f\"], [0.2222222222222222, \"#7201a8\"], [0.3333333333333333, \"#9c179e\"], [0.4444444444444444, \"#bd3786\"], [0.5555555555555556, \"#d8576b\"], [0.6666666666666666, \"#ed7953\"], [0.7777777777777778, \"#fb9f3a\"], [0.8888888888888888, \"#fdca26\"], [1.0, \"#f0f921\"]], \"sequentialminus\": [[0.0, \"#0d0887\"], [0.1111111111111111, \"#46039f\"], [0.2222222222222222, \"#7201a8\"], [0.3333333333333333, \"#9c179e\"], [0.4444444444444444, \"#bd3786\"], [0.5555555555555556, \"#d8576b\"], [0.6666666666666666, \"#ed7953\"], [0.7777777777777778, \"#fb9f3a\"], [0.8888888888888888, \"#fdca26\"], [1.0, \"#f0f921\"]]}, \"colorway\": [\"#636efa\", \"#EF553B\", \"#00cc96\", \"#ab63fa\", \"#FFA15A\", \"#19d3f3\", \"#FF6692\", \"#B6E880\", \"#FF97FF\", \"#FECB52\"], \"font\": {\"color\": \"#2a3f5f\"}, \"geo\": {\"bgcolor\": \"white\", \"lakecolor\": \"white\", \"landcolor\": \"#E5ECF6\", \"showlakes\": true, \"showland\": true, \"subunitcolor\": \"white\"}, \"hoverlabel\": {\"align\": \"left\"}, \"hovermode\": \"closest\", \"mapbox\": {\"style\": \"light\"}, \"paper_bgcolor\": \"white\", \"plot_bgcolor\": \"#E5ECF6\", \"polar\": {\"angularaxis\": {\"gridcolor\": \"white\", \"linecolor\": \"white\", \"ticks\": \"\"}, \"bgcolor\": \"#E5ECF6\", \"radialaxis\": {\"gridcolor\": \"white\", \"linecolor\": \"white\", \"ticks\": \"\"}}, \"scene\": {\"xaxis\": {\"backgroundcolor\": \"#E5ECF6\", \"gridcolor\": \"white\", \"gridwidth\": 2, \"linecolor\": \"white\", \"showbackground\": true, \"ticks\": \"\", \"zerolinecolor\": \"white\"}, \"yaxis\": {\"backgroundcolor\": \"#E5ECF6\", \"gridcolor\": \"white\", \"gridwidth\": 2, \"linecolor\": \"white\", \"showbackground\": true, \"ticks\": \"\", \"zerolinecolor\": \"white\"}, \"zaxis\": {\"backgroundcolor\": \"#E5ECF6\", \"gridcolor\": \"white\", \"gridwidth\": 2, \"linecolor\": \"white\", \"showbackground\": true, \"ticks\": \"\", \"zerolinecolor\": \"white\"}}, \"shapedefaults\": {\"line\": {\"color\": \"#2a3f5f\"}}, \"ternary\": {\"aaxis\": {\"gridcolor\": \"white\", \"linecolor\": \"white\", \"ticks\": \"\"}, \"baxis\": {\"gridcolor\": \"white\", \"linecolor\": \"white\", \"ticks\": \"\"}, \"bgcolor\": \"#E5ECF6\", \"caxis\": {\"gridcolor\": \"white\", \"linecolor\": \"white\", \"ticks\": \"\"}}, \"title\": {\"x\": 0.05}, \"xaxis\": {\"automargin\": true, \"gridcolor\": \"white\", \"linecolor\": \"white\", \"ticks\": \"\", \"title\": {\"standoff\": 15}, \"zerolinecolor\": \"white\", \"zerolinewidth\": 2}, \"yaxis\": {\"automargin\": true, \"gridcolor\": \"white\", \"linecolor\": \"white\", \"ticks\": \"\", \"title\": {\"standoff\": 15}, \"zerolinecolor\": \"white\", \"zerolinewidth\": 2}}}, \"title\": {\"text\": \"Most used words excluding stopwords\"}},\n",
       "                        {\"responsive\": true}\n",
       "                    ).then(function(){\n",
       "                            \n",
       "var gd = document.getElementById('c4eedcc2-1e51-49bf-95b3-e71a48e7ac88');\n",
       "var x = new MutationObserver(function (mutations, observer) {{\n",
       "        var display = window.getComputedStyle(gd).display;\n",
       "        if (!display || display === 'none') {{\n",
       "            console.log([gd, 'removed!']);\n",
       "            Plotly.purge(gd);\n",
       "            observer.disconnect();\n",
       "        }}\n",
       "}});\n",
       "\n",
       "// Listen for the removal of the full notebook cells\n",
       "var notebookContainer = gd.closest('#notebook-container');\n",
       "if (notebookContainer) {{\n",
       "    x.observe(notebookContainer, {childList: true});\n",
       "}}\n",
       "\n",
       "// Listen for the clearing of the current output cell\n",
       "var outputEl = gd.closest('.output');\n",
       "if (outputEl) {{\n",
       "    x.observe(outputEl, {childList: true});\n",
       "}}\n",
       "\n",
       "                        })\n",
       "                };\n",
       "                });\n",
       "            </script>\n",
       "        </div>"
      ]
     },
     "metadata": {},
     "output_type": "display_data"
    }
   ],
   "source": [
    "import plotly.graph_objects as go\n",
    "from plotly.offline import iplot\n",
    "words = df_poetry['content'].str.split(expand=True).unstack().value_counts()\n",
    "data = [go.Bar(\n",
    "            x = words.index.values[2:20],\n",
    "            y = words.values[2:20],\n",
    "            marker= dict(colorscale='RdBu',\n",
    "                         color = words.values[2:40]\n",
    "                        ),\n",
    "            text='Word counts'\n",
    "    )]\n",
    "\n",
    "layout = go.Layout(\n",
    "    title='Most used words excluding stopwords'\n",
    ")\n",
    "\n",
    "fig = go.Figure(data=data, layout=layout)\n",
    "\n",
    "iplot(fig, filename='basic-bar')"
   ]
  },
  {
   "cell_type": "markdown",
   "metadata": {},
   "source": [
    "**Creating word cloud from most used 100 words**"
   ]
  },
  {
   "cell_type": "code",
   "execution_count": 25,
   "metadata": {},
   "outputs": [],
   "source": [
    "import matplotlib.pyplot as plt\n",
    "def word_cloud(content, title):\n",
    "    wc = WordCloud(background_color='white', max_words=200,\n",
    "                  stopwords=STOPWORDS, max_font_size=50)\n",
    "    wc.generate(\" \".join(content))\n",
    "    plt.figure(figsize=(16, 13))\n",
    "    plt.title(title, fontsize=20)\n",
    "    plt.imshow(wc.recolor(colormap='Pastel2', random_state=42), alpha=0.98)\n",
    "    plt.axis('off')"
   ]
  },
  {
   "cell_type": "code",
   "execution_count": 26,
   "metadata": {},
   "outputs": [
    {
     "data": {
      "image/png": "[encoded data removed]",
      "text/plain": [
       "<Figure size 1152x936 with 1 Axes>"
      ]
     },
     "metadata": {
      "needs_background": "light"
     },
     "output_type": "display_data"
    }
   ],
   "source": [
    "word_cloud(df_poetry.content, \"Word Cloud\")"
   ]
  },
  {
   "cell_type": "markdown",
   "metadata": {},
   "source": [
    "I expect strong correlation between label encoded features."
   ]
  },
  {
   "cell_type": "code",
   "execution_count": 27,
   "metadata": {},
   "outputs": [],
   "source": [
    "from sklearn.preprocessing import LabelEncoder\n",
    "le = LabelEncoder()\n",
    "df_poetry.type=le.fit_transform(df_poetry.type)\n",
    "df_poetry.age=le.fit_transform(df_poetry.age)\n",
    "df_poetry.author=le.fit_transform(df_poetry.author)"
   ]
  },
  {
   "cell_type": "code",
   "execution_count": 28,
   "metadata": {},
   "outputs": [
    {
     "data": {
      "text/html": [
       "<div>\n",
       "<style scoped>\n",
       "    .dataframe tbody tr th:only-of-type {\n",
       "        vertical-align: middle;\n",
       "    }\n",
       "\n",
       "    .dataframe tbody tr th {\n",
       "        vertical-align: top;\n",
       "    }\n",
       "\n",
       "    .dataframe thead th {\n",
       "        text-align: right;\n",
       "    }\n",
       "</style>\n",
       "<table border=\"1\" class=\"dataframe\">\n",
       "  <thead>\n",
       "    <tr style=\"text-align: right;\">\n",
       "      <th></th>\n",
       "      <th>author</th>\n",
       "      <th>age</th>\n",
       "      <th>type</th>\n",
       "    </tr>\n",
       "  </thead>\n",
       "  <tbody>\n",
       "    <tr>\n",
       "      <th>author</th>\n",
       "      <td>1.000000</td>\n",
       "      <td>0.287501</td>\n",
       "      <td>-0.146664</td>\n",
       "    </tr>\n",
       "    <tr>\n",
       "      <th>age</th>\n",
       "      <td>0.287501</td>\n",
       "      <td>1.000000</td>\n",
       "      <td>-0.437088</td>\n",
       "    </tr>\n",
       "    <tr>\n",
       "      <th>type</th>\n",
       "      <td>-0.146664</td>\n",
       "      <td>-0.437088</td>\n",
       "      <td>1.000000</td>\n",
       "    </tr>\n",
       "  </tbody>\n",
       "</table>\n",
       "</div>"
      ],
      "text/plain": [
       "          author       age      type\n",
       "author  1.000000  0.287501 -0.146664\n",
       "age     0.287501  1.000000 -0.437088\n",
       "type   -0.146664 -0.437088  1.000000"
      ]
     },
     "execution_count": 28,
     "metadata": {},
     "output_type": "execute_result"
    }
   ],
   "source": [
    "corr = df_poetry.corr()\n",
    "corr"
   ]
  },
  {
   "cell_type": "markdown",
   "metadata": {},
   "source": [
    "Heat map between label encoded features."
   ]
  },
  {
   "cell_type": "code",
   "execution_count": 29,
   "metadata": {},
   "outputs": [
    {
     "data": {
      "text/plain": [
       "<matplotlib.axes._subplots.AxesSubplot at 0x7f52fc52c7b8>"
      ]
     },
     "execution_count": 29,
     "metadata": {},
     "output_type": "execute_result"
    },
    {
     "data": {
      "image/png": "[encoded data removed]",
      "text/plain": [
       "<Figure size 432x288 with 2 Axes>"
      ]
     },
     "metadata": {
      "needs_background": "light"
     },
     "output_type": "display_data"
    }
   ],
   "source": [
    "sns.heatmap(corr, \n",
    "        xticklabels=corr.columns,\n",
    "        yticklabels=corr.columns)"
   ]
  },
  {
   "cell_type": "markdown",
   "metadata": {},
   "source": [
    "Categorical plot to explain distribution of type and authors of poetry through the ages. It'd be better if the ages were given in years instead of two categories."
   ]
  },
  {
   "cell_type": "code",
   "execution_count": 30,
   "metadata": {},
   "outputs": [
    {
     "data": {
      "image/png": "[encoded data removed]",
      "text/plain": [
       "<Figure size 402.375x360 with 1 Axes>"
      ]
     },
     "metadata": {
      "needs_background": "light"
     },
     "output_type": "display_data"
    }
   ],
   "source": [
    "sns.catplot(x=\"age\", y=\"author\",hue=\"type\", data=df_poetry);"
   ]
  },
  {
   "cell_type": "markdown",
   "metadata": {},
   "source": [
    "First I'll separate the dataset for training and test, then I'll vectorize both sets with TFIDF and Count Vectorizer, and then apply decision tree for classification."
   ]
  },
  {
   "cell_type": "code",
   "execution_count": 31,
   "metadata": {},
   "outputs": [
    {
     "name": "stdout",
     "output_type": "stream",
     "text": [
      "526    [i carry your heart with me(i carry it in] Cop...\n",
      "63     Full fathom five thy father lies;\\r\\nOf his bo...\n",
      "158    Love is a sickness full of woes,\\r\\nAll remedi...\n",
      "248    No spring nor summer beauty hath such grace\\r\\...\n",
      "175    Come away, come away, death,\\r\\n    And in sad...\n",
      "                             ...                        \n",
      "70     How like a winter hath my absence been\\r\\nFrom...\n",
      "132    Stella, think not that I by verse seek fame,\\r...\n",
      "289    If thou survive my well-contented day,\\r\\nWhen...\n",
      "109    Ye tradefull Merchants that with weary toyle,\\...\n",
      "480    [Version 1: 1921]\\r\\nThe quick sparks on the g...\n",
      "Name: content, Length: 383, dtype: object\n"
     ]
    }
   ],
   "source": [
    "y=df_poetry['author']\n",
    "x=df_poetry[\"content\"]\n",
    "X_train, X_test, y_train, y_test =train_test_split(x,y,test_size=0.33, random_state=50)\n",
    "print(X_train)"
   ]
  },
  {
   "cell_type": "raw",
   "metadata": {},
   "source": [
    "Trying to predict the author of the poem from the content. Used Count Vectorizer and Decision Tree Classifier with entropy."
   ]
  },
  {
   "cell_type": "code",
   "execution_count": 32,
   "metadata": {},
   "outputs": [],
   "source": [
    "from sklearn.feature_extraction.text import TfidfVectorizer\n",
    "vectorizer = TfidfVectorizer()\n",
    "vectrain = vectorizer.fit_transform(X_train)\n",
    "vectest = vectorizer.transform(X_test)"
   ]
  },
  {
   "cell_type": "code",
   "execution_count": 33,
   "metadata": {},
   "outputs": [
    {
     "data": {
      "text/plain": [
       "(190, 9936)"
      ]
     },
     "execution_count": 33,
     "metadata": {},
     "output_type": "execute_result"
    }
   ],
   "source": [
    "vectest.shape"
   ]
  },
  {
   "cell_type": "code",
   "execution_count": 34,
   "metadata": {},
   "outputs": [
    {
     "data": {
      "text/plain": [
       "(383,)"
      ]
     },
     "execution_count": 34,
     "metadata": {},
     "output_type": "execute_result"
    }
   ],
   "source": [
    "y_train.shape"
   ]
  },
  {
   "cell_type": "code",
   "execution_count": 35,
   "metadata": {},
   "outputs": [],
   "source": [
    "dtclassifier=DecisionTreeClassifier(criterion=\"entropy\", max_depth=None)\n",
    "dtclassifier.fit(vectrain,y_train)\n",
    "preddt = dtclassifier.predict(vectest)"
   ]
  },
  {
   "cell_type": "code",
   "execution_count": 36,
   "metadata": {},
   "outputs": [
    {
     "name": "stdout",
     "output_type": "stream",
     "text": [
      "0.3631578947368421\n"
     ]
    }
   ],
   "source": [
    "accuracy= accuracy_score(preddt,y_test)\n",
    "print(accuracy)"
   ]
  },
  {
   "cell_type": "markdown",
   "metadata": {},
   "source": [
    "Trying to predict the age of the poem from the content. Used Count Vectorizer and Decision Tree Classifier with entropy."
   ]
  },
  {
   "cell_type": "code",
   "execution_count": 37,
   "metadata": {},
   "outputs": [],
   "source": [
    "y=df_poetry['age']\n",
    "x=df_poetry[\"content\"]\n",
    "X_train, X_test, y_train, y_test =train_test_split(x,y,test_size=0.33, random_state=50)"
   ]
  },
  {
   "cell_type": "code",
   "execution_count": 38,
   "metadata": {},
   "outputs": [],
   "source": [
    "vectorizer = TfidfVectorizer()\n",
    "vectrain = vectorizer.fit_transform(X_train)\n",
    "vectest = vectorizer.transform(X_test)"
   ]
  },
  {
   "cell_type": "code",
   "execution_count": 39,
   "metadata": {},
   "outputs": [],
   "source": [
    "dtclassifier=DecisionTreeClassifier(criterion=\"entropy\", max_depth=None)\n",
    "dtclassifier.fit(vectrain,y_train)\n",
    "preddt = dtclassifier.predict(vectest)"
   ]
  },
  {
   "cell_type": "code",
   "execution_count": 40,
   "metadata": {},
   "outputs": [
    {
     "name": "stdout",
     "output_type": "stream",
     "text": [
      "0.8421052631578947\n"
     ]
    }
   ],
   "source": [
    "accuracy= accuracy_score(preddt,y_test)\n",
    "print(accuracy)"
   ]
  },
  {
   "cell_type": "markdown",
   "metadata": {},
   "source": [
    "Trying to predict authors from rest of the features this time, I don't expect too much of an improvement. Used Tfidf vectorizer and decision tree with gini index as split criterion."
   ]
  },
  {
   "cell_type": "code",
   "execution_count": 41,
   "metadata": {},
   "outputs": [],
   "source": [
    "y=df_poetry['author']\n",
    "X=df_poetry.loc[:, df_poetry.columns!=\"author\"]\n",
    "X_train, X_test, y_train, y_test =train_test_split(x,y,test_size=0.33, random_state=50)"
   ]
  },
  {
   "cell_type": "code",
   "execution_count": 42,
   "metadata": {},
   "outputs": [],
   "source": [
    "vectorizer = TfidfVectorizer()\n",
    "vectrain = vectorizer.fit_transform(X_train)\n",
    "vectest = vectorizer.transform(X_test)"
   ]
  },
  {
   "cell_type": "code",
   "execution_count": 43,
   "metadata": {},
   "outputs": [],
   "source": [
    "dtclassifier=DecisionTreeClassifier(criterion=\"gini\", max_depth=None)\n",
    "dtclassifier.fit(vectrain,y_train)\n",
    "preddt = dtclassifier.predict(vectest)"
   ]
  },
  {
   "cell_type": "code",
   "execution_count": 44,
   "metadata": {},
   "outputs": [
    {
     "name": "stdout",
     "output_type": "stream",
     "text": [
      "0.41578947368421054\n"
     ]
    }
   ],
   "source": [
    "accuracy= accuracy_score(preddt,y_test)\n",
    "print(accuracy)"
   ]
  }
 ],
 "metadata": {
  "kernelspec": {
   "display_name": "Python 3 (ipykernel)",
   "language": "python",
   "name": "python3"
  },
  "language_info": {
   "codemirror_mode": {
    "name": "ipython",
    "version": 3
   },
   "file_extension": ".py",
   "mimetype": "text/x-python",
   "name": "python",
   "nbconvert_exporter": "python",
   "pygments_lexer": "ipython3",
   "version": "3.11.5"
  }
 },
 "nbformat": 4,
 "nbformat_minor": 4
}
